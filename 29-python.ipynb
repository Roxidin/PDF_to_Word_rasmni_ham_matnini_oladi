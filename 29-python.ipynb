{
  "cells": [
    {
      "cell_type": "markdown",
      "metadata": {
        "id": "view-in-github",
        "colab_type": "text"
      },
      "source": [
        "<a href=\"https://colab.research.google.com/github/Roxidin/PDF_to_Word_rasmni_ham_matnini_oladi/blob/main/29-python.ipynb\" target=\"_parent\"><img src=\"https://colab.research.google.com/assets/colab-badge.svg\" alt=\"Open In Colab\"/></a>"
      ]
    },
    {
      "cell_type": "markdown",
      "metadata": {
        "id": "pmIt0bok4iFk"
      },
      "source": [
        "# 29-DARS. OBYKETLAR BILAN ISHLASH\n",
        "\n",
        "Obyektlar bilan ishlashni o'rganamiz.\n",
        "\n",
        "![](https://gblobscdn.gitbook.com/assets%2F-MGbkqs1tROquIT6oqUs%2F-Mc-5yGQPZTBaGoehQdL%2F-Mc-7xpq4Puu3KEjmT0R%2FSD_YT_TG_logo_mini.png?alt=media&token=929fe67b-ec12-4f63-b33e-e9c5e3d8ad09)\n",
        "\n",
        "# XUSUSIYATLARGA STANDART QIYMAT BERISH\n",
        "\n",
        "Avvalgi darsizmida biz klass yaratish, unga xususiyatlar va metodlar qo'shishni ko'rdik. Klassdan obyekt yaratganimizda esa uning xususiyatlarini parametr sifatida uzatishni o'rgandik.\n",
        "\n",
        "Pythonda obyektning ba'zi xususiyatlarini parametr yordamida uzatmasdan, klass yaratishda unga standart qiymat berib ketishimiz mumkin. Keling, `Talaba` klassimizga qaytamiz. Bu klassimiz 3 ta xususiyatga ega edi: `ism`, `familiya`, `tyil`. Biz yana bitta qo'shimcha, `bosqich` nomli xususiyat qo'shamiz, va unga standart qiymat sifatida `1` beramiz, e'tibor qiling bu xususiyat obyekt yaratilishida parametr sifatida uzatilmaydi:"
      ]
    },
    {
      "cell_type": "code",
      "execution_count": null,
      "metadata": {
        "id": "x2rWvRyi4iFr"
      },
      "outputs": [],
      "source": [
        "class Talaba:\n",
        "    \"\"\"Talaba nomli klass yaratamiz\"\"\"\n",
        "    def __init__(self,ism,familiya,tyil):\n",
        "        \"\"\"Talabaning xususiyatlari\"\"\"\n",
        "        self.ism = ism\n",
        "        self.familiya = familiya\n",
        "        self.tyil = tyil\n",
        "        self.bosqich = 1\n",
        "\n",
        "    def get_info(self):\n",
        "        return f\"{self.ism} {self.familiya}. {self.bosqich}-bosqich talabasi \""
      ]
    },
    {
      "cell_type": "markdown",
      "metadata": {
        "id": "4HgGg-un4iFt"
      },
      "source": [
        "Endi, Talaba klassidan yangi obyekt yaratganimizda har bir yangi talabaning kursi 1 ga teng bo'ladi.\n"
      ]
    },
    {
      "cell_type": "code",
      "execution_count": null,
      "metadata": {
        "id": "7HV8D1F44iFu",
        "outputId": "af10712c-5c98-4687-b6d3-bb398520480d"
      },
      "outputs": [
        {
          "name": "stdout",
          "output_type": "stream",
          "text": [
            "Alijon Valiyev. 1-bosqich talabasi \n"
          ]
        }
      ],
      "source": [
        "talaba1 = Talaba(\"Alijon\",\"Valiyev\",2000)\n",
        "print(talaba1.get_info())"
      ]
    },
    {
      "cell_type": "markdown",
      "metadata": {
        "id": "eSSDHOFR4iFw"
      },
      "source": [
        "## STANDART QIYMATNI O'ZGARTIRISH\n",
        "\n",
        "Obyektning standart qiymatiga ham boshqa xususiyatlar kabi nuqta orqali murojat qilishimiz va uning qiymatini almashtirishimiz mumkin:"
      ]
    },
    {
      "cell_type": "code",
      "execution_count": null,
      "metadata": {
        "id": "DdBT2sxB4iFx",
        "outputId": "33d74738-f95f-497f-df6b-5e64aaedf038"
      },
      "outputs": [
        {
          "name": "stdout",
          "output_type": "stream",
          "text": [
            "2\n"
          ]
        }
      ],
      "source": [
        "talaba1.bosqich= 2\n",
        "print(talaba1.bosqich)"
      ]
    },
    {
      "cell_type": "markdown",
      "metadata": {
        "id": "RoJSZBiH4iFy"
      },
      "source": [
        "Yana boshqa usuli, obyekt xususiyatini yangilovchi metod yozish.\n"
      ]
    },
    {
      "cell_type": "code",
      "execution_count": null,
      "metadata": {
        "id": "G1rlPADd4iFy"
      },
      "outputs": [],
      "source": [
        "class Talaba:\n",
        "    \"\"\"Talaba nomli klass yaratamiz\"\"\"\n",
        "    def __init__(self,ism,familiya,tyil):\n",
        "        \"\"\"Talabaning xususiyatlari\"\"\"\n",
        "        self.ism = ism\n",
        "        self.familiya = familiya\n",
        "        self.tyil = tyil\n",
        "        self.bosqich = 1\n",
        "\n",
        "    def get_info(self):\n",
        "        \"\"\"Talaba haqida ma'lumot\"\"\"\n",
        "        return f\"{self.ism} {self.familiya}. {self.bosqich}-bosqich talabasi \"\n",
        "\n",
        "    def set_bosqich(self,bosqich):\n",
        "        \"\"\"Talabaning kursini yangilovchi metod\"\"\"\n",
        "        self.bosqich = bosqich"
      ]
    },
    {
      "cell_type": "markdown",
      "metadata": {
        "id": "InsaJDN-4iFz"
      },
      "source": [
        "Metodga murojat qilamiz:\n"
      ]
    },
    {
      "cell_type": "code",
      "execution_count": null,
      "metadata": {
        "id": "umZ2p65M4iF0",
        "outputId": "ae25b512-152c-4fdf-846e-2c1f4b242da3"
      },
      "outputs": [
        {
          "name": "stdout",
          "output_type": "stream",
          "text": [
            "Alijon Valiyev. 3-bosqich talabasi \n"
          ]
        }
      ],
      "source": [
        "talaba1 = Talaba(\"Alijon\",\"Valiyev\",2000)\n",
        "talaba1.set_bosqich(3)\n",
        "print(talaba1.get_info())"
      ]
    },
    {
      "cell_type": "markdown",
      "metadata": {
        "id": "vieno7bO4iF1"
      },
      "source": [
        "Umuman olganda xususiyatlarni yangilashda turli usullardan foydalanish mumkin. Misol uchun talabaning bosqichi odatda 1 tadan ko'payib boradi, shuning uchun quyidagicha metod ham yozishimiz mumkin:\n"
      ]
    },
    {
      "cell_type": "code",
      "execution_count": null,
      "metadata": {
        "id": "TTfeeW674iF1"
      },
      "outputs": [],
      "source": [
        "class Talaba:\n",
        "    \"\"\"Talaba nomli klass yaratamiz\"\"\"\n",
        "    def __init__(self,ism,familiya,tyil):\n",
        "        \"\"\"Talabaning xususiyatlari\"\"\"\n",
        "        self.ism = ism\n",
        "        self.familiya = familiya\n",
        "        self.tyil = tyil\n",
        "        self.bosqich = 1\n",
        "\n",
        "    def get_info(self):\n",
        "        \"\"\"Talaba haqida ma'lumot\"\"\"\n",
        "        return f\"{self.ism} {self.familiya}. {self.bosqich}-bosqich talabasi \"\n",
        "\n",
        "    def set_bosqich(self,bosqich):\n",
        "        \"\"\"Talabaning kursini yangilovchi metod\"\"\"\n",
        "        self.bosqich = bosqich\n",
        "\n",
        "    def update_bosqich(self):\n",
        "        \"\"\"Talabanining bosqichini 1taga ko'paytirish\"\"\"\n",
        "        self.bosqich += 1"
      ]
    },
    {
      "cell_type": "markdown",
      "metadata": {
        "id": "B3x6Vr1H4iF2"
      },
      "source": [
        "`update_bosqich()` metodiga murojat qilganimizda talabning bosqichi oshib boradi:\n"
      ]
    },
    {
      "cell_type": "code",
      "execution_count": null,
      "metadata": {
        "id": "CyshoLC-4iF2",
        "outputId": "c5b33e55-f854-450a-b6bd-a639e439d2c2"
      },
      "outputs": [
        {
          "name": "stdout",
          "output_type": "stream",
          "text": [
            "Alijon Valiyev. 1-bosqich talabasi \n"
          ]
        }
      ],
      "source": [
        "talaba1 = Talaba(\"Alijon\",\"Valiyev\",2000)\n",
        "print(talaba1.get_info())"
      ]
    },
    {
      "cell_type": "code",
      "execution_count": null,
      "metadata": {
        "id": "bmdqLNGy4iF2",
        "outputId": "9c60e223-b9d2-4815-b7aa-70c1d67e1706"
      },
      "outputs": [
        {
          "name": "stdout",
          "output_type": "stream",
          "text": [
            "Alijon Valiyev. 2-bosqich talabasi \n"
          ]
        }
      ],
      "source": [
        "talaba1.update_bosqich() # 1 bosqichga oshiramiz\n",
        "print(talaba1.get_info())"
      ]
    },
    {
      "cell_type": "code",
      "execution_count": null,
      "metadata": {
        "id": "qAxsWXzk4iF3",
        "outputId": "664988ae-f765-4ea7-a04a-d298b35a76b0"
      },
      "outputs": [
        {
          "name": "stdout",
          "output_type": "stream",
          "text": [
            "Alijon Valiyev. 3-bosqich talabasi \n"
          ]
        }
      ],
      "source": [
        "talaba1.update_bosqich() # 1 bosqichga oshiramiz\n",
        "print(talaba1.get_info())"
      ]
    },
    {
      "cell_type": "markdown",
      "metadata": {
        "id": "LBXN4sUx4iF4"
      },
      "source": [
        "## OBYEKTLAR O'RTASIDA MUNOSABAT\n",
        "\n",
        "Obyektga yo'naltirilgan dasturlashning afzalligi, turli obyektlar o'rtasida o'zaro munosabatlarni oson yo'lga qo'yish mumkinligida. Buni misolda ko'rish uchun, yangi `Fan` degan klass yaratamiz va fanimizga talabalar qo'shish imkoniyatini ham yaratamiz (`add_student()` metodi):"
      ]
    },
    {
      "cell_type": "code",
      "execution_count": null,
      "metadata": {
        "id": "m7foLyg_4iF4"
      },
      "outputs": [],
      "source": [
        "class Fan():\n",
        "    def __init__(self,nomi):\n",
        "        self.nomi = nomi\n",
        "        self.talabalar_soni = 0\n",
        "        self.talabalar = []\n",
        "\n",
        "    def add_student(self,talaba):\n",
        "        \"\"\"Fanga talabalar qo'shish\"\"\"\n",
        "        self.talabalar.append(talaba)\n",
        "        self.talabalar_soni += 1"
      ]
    },
    {
      "cell_type": "markdown",
      "metadata": {
        "id": "z0PnQJrA4iF4"
      },
      "source": [
        "E'tibor bering, `Fan` klassi faqatgina yagona `nomi` degan parametrga ega. Qolgan xususiyatlariga esa standart qiymat berilgan: talabalar soni (`self.talabalar_soni`) 0 ga teng, talabalar ro'yxati (`self.talabalar`) esa bo'sh.\n",
        "\n",
        "`Fan`imizga talaba qo'shish uchun `dd_student()` metodini chaqiramiz. Bu metod parametr sifatida `Talaba` obyektini qabul qiladi va uni talabalar ro'yxatiga qo'shadi. Shuningdek, bu metod yangi talaba qo'shilganda `talabalar_soni` ni 1 taga oshirib qo'yadi.\n",
        "\n",
        "Keling boshlanishiga yangi fan obyektini va bir nechta talabalarni yaratamiz:"
      ]
    },
    {
      "cell_type": "code",
      "execution_count": null,
      "metadata": {
        "id": "7IqiSRMB4iF5"
      },
      "outputs": [],
      "source": [
        "matematika = Fan(\"Oliy Matematika\")\n",
        "talaba1 = Talaba(\"Alijon\",\"Valiyev\",2000)\n",
        "talaba2 = Talaba(\"Hasan\",\"Alimov\",2001)\n",
        "talaba3 = Talaba(\"Akrom\",\"Boriyev\",2001)"
      ]
    },
    {
      "cell_type": "markdown",
      "metadata": {
        "id": "-F6K2BYm4iF5"
      },
      "source": [
        "Talabalarni yangi fanimizga qo'shamiz:\n"
      ]
    },
    {
      "cell_type": "code",
      "execution_count": null,
      "metadata": {
        "id": "opvYBcRm4iF5"
      },
      "outputs": [],
      "source": [
        "matematika.add_student(talaba1)\n",
        "matematika.add_student(talaba2)\n",
        "matematika.add_student(talaba3)"
      ]
    },
    {
      "cell_type": "markdown",
      "metadata": {
        "id": "KzDhbjh04iF5"
      },
      "source": [
        "Mana, fanimiz tayyor, talabalar qo'shildi. Keling endi fan haqida ma'lumotlarni olamiz:\n"
      ]
    },
    {
      "cell_type": "code",
      "execution_count": null,
      "metadata": {
        "id": "P2SFjBiW4iF6",
        "outputId": "97d48593-735e-4dc5-ae7d-2d90208f6fca"
      },
      "outputs": [
        {
          "name": "stdout",
          "output_type": "stream",
          "text": [
            "3\n"
          ]
        }
      ],
      "source": [
        "print(matematika.talabalar_soni)"
      ]
    },
    {
      "cell_type": "markdown",
      "metadata": {
        "id": "rM8VTRIy4iF6"
      },
      "source": [
        "Fanimizga 3 ta talaba qo'shilibdi. Talabalar haqida ma'lumot olsak bo'ladimi?\n"
      ]
    },
    {
      "cell_type": "code",
      "execution_count": null,
      "metadata": {
        "id": "X648FHxC4iF6",
        "outputId": "ea6830ff-f520-4bca-9731-f987339898d0"
      },
      "outputs": [
        {
          "name": "stdout",
          "output_type": "stream",
          "text": [
            "[<__main__.Talaba object at 0x7f8cdabeeb80>, <__main__.Talaba object at 0x7f8cdabeea00>, <__main__.Talaba object at 0x7f8cdabee8b0>]\n"
          ]
        }
      ],
      "source": [
        "print(matematika.talabalar)"
      ]
    },
    {
      "cell_type": "markdown",
      "metadata": {
        "id": "BRCIefml4iF7"
      },
      "source": [
        "Talabalarning ismi familiyasi o'rniga qandaydur tushunarsiz ma'lumotlar. Aslida hammasi to'g'ri, yuqorida fanimizga yangi talabalarni obyekt sifatida qo'shgan edik, yuqoridagi natija esa `matematika.talabalar` ro'yxatida `Talaba` klassiga oid 3 ta **obyekt** borligini ko'rsatayapti.\n",
        "\n",
        "Fanimizga yozilgan talabalar haqida tushunarli ma'lumot olish uchun esa `Fan` klassiga yana bir, `get_students()` degan, yangi metod qo'shamiz. Bu metod talabalar ichidagi har bir talaba obyektiga murojat qilib, `get_info()` metodi yordamida talabaning ma'lumotlarini oladi, ro'yxatga qo'shadi va shu ro'yxatni qaytaradi:"
      ]
    },
    {
      "cell_type": "code",
      "execution_count": null,
      "metadata": {
        "id": "Dkyugo0W4iF7"
      },
      "outputs": [],
      "source": [
        "class Fan():\n",
        "    def __init__(self,nomi):\n",
        "        self.nomi = nomi\n",
        "        self.talabalar_soni = 0\n",
        "        self.talabalar = []\n",
        "\n",
        "    def add_student(self,talaba):\n",
        "        \"\"\"Fanga talabalar qo'shish\"\"\"\n",
        "        self.talabalar.append(talaba)\n",
        "        self.talabalar_soni += 1\n",
        "\n",
        "    def get_students(self):\n",
        "        return [talaba.get_info() for talaba in self.talabalar]"
      ]
    },
    {
      "cell_type": "markdown",
      "metadata": {
        "id": "A2LGOtVA4iF7"
      },
      "source": [
        "Shu o'rinda Pythonda ro'yxatlar bilan ishlashning qulayliklaridan birini ham ko'rsatib o'tsak. Yuqoridagi kodimizning oxirgi qatorida e'tibor bersangiz, biz yangi ro'yxat shakllantirishda 1 qator koddan foydalandik:"
      ]
    },
    {
      "cell_type": "code",
      "execution_count": null,
      "metadata": {
        "id": "xTv8BFsC4iF8"
      },
      "outputs": [],
      "source": [
        "[talaba.get_info() for talaba in self.talabalar]"
      ]
    },
    {
      "cell_type": "markdown",
      "metadata": {
        "id": "rJBFCtyI4iF8"
      },
      "source": [
        "Kodimizni tahlil qilsak, `self.talabalar` ichidagi har bir talaba uchun `get_info()` metodini bajar degan ma'no kelib chiqadi. Kodni kvadrat qavslar ichiga olganimiz uchun esa, har bir tsikl natijasi avtomat ravishda ro'yxatga qo'shib boriladi.\n",
        "\n",
        "Mana endi metodga murojat qilib, talabalar haqida ma'lumot olishimiz mumkin:"
      ]
    },
    {
      "cell_type": "code",
      "execution_count": null,
      "metadata": {
        "id": "vdX7BJNY4iF8",
        "outputId": "b2b63878-8e7a-4ebb-ec35-dd94b1082b9f"
      },
      "outputs": [
        {
          "name": "stdout",
          "output_type": "stream",
          "text": [
            "['Alijon Valiyev. 1-bosqich talabasi ', 'Hasan Alimov. 1-bosqich talabasi ', 'Akrom Boriyev. 1-bosqich talabasi ']\n"
          ]
        }
      ],
      "source": [
        "mat_talabalar = matematika.get_students()\n",
        "print(mat_talabalar)"
      ]
    },
    {
      "cell_type": "markdown",
      "metadata": {
        "id": "xTHrRpB_4iF9"
      },
      "source": [
        "Shunday qilib biz ikki bir-biriga bog'liq bo'lmagan obyektlar ustida turli munosabatlar o'rnatishimiz mumkin.\n",
        "\n",
        "# NUQTA YOKI METOD?\n",
        "\n",
        "Pythondagi obyketlarning o'ziga xos xususiyatlaridan biri, obyektning xususiyatiga nuqta orqali murojat qilish mumkin. Misol uchun avval yaratagn `talaba1` obyektining ismini bilish uchun `talaba1.ism` deb yozish kifoya.\n",
        "\n",
        "Bu o'ziga yarasha qulay bo'lsada, bu usuldan foydalanmagan afzal. Sababi, vaqt o'tib klassingiz takomillashishi, uning ba'zi xususiyatlari o'zgarishi, o'chirilishi yoki almashtirilishi mumkin. Shunday holatlarda nuqta orqali murojat qilish siz kutgan natijani bermasligi va dastur xato ishlashiga olib kelishi mumkin. Bunday holatlarning oldini olish uchun esa, obyektning xususiyatlarini metod orqali olishni odat qilish tavsiya qilinadi. Huddi shu kabi, obyektning xususiyatlarini yangilash uchun ham alohida metodlar yozga afzal.\n",
        "\n",
        "> Dasturchilar orasida obyektning xususiyatlarini o'zgartiradigan metodlarni `set` (o'zgartir) so'zi bilan, xususiyatlarni qaytaradigan metodlarni esa `get` (olish) so'zi bilan boshlash qoida qilib olingan. Masalan: `set_name()` va `get_name()` kabi.\n",
        "\n",
        "Agar yuqoridagi qoidalarga amal qilgan holda, `Talaba` klassimizni yangilaydigan bo'lsak, u tahminan shunday ko'rinishga ega bo'ladi:"
      ]
    },
    {
      "cell_type": "code",
      "execution_count": null,
      "metadata": {
        "id": "v3BJzVv24iF9"
      },
      "outputs": [],
      "source": [
        "class Talaba:\n",
        "    \"\"\"Talaba nomli klass yaratamiz\"\"\"\n",
        "    def __init__(self,ism,familiya,tyil):\n",
        "        \"\"\"Talabaning xususiyatlari\"\"\"\n",
        "        self.ism = ism\n",
        "        self.familiya = familiya\n",
        "        self.tyil = tyil\n",
        "        self.bosqich = 1\n",
        "\n",
        "    def set_bosqich(self,bosqich):\n",
        "        \"\"\"Talabaning kursini yangilovchi metod\"\"\"\n",
        "        self.bosqich = bosqich\n",
        "\n",
        "    def update_bosqich(self):\n",
        "        \"\"\"Talabanining bosqichini 1taga ko'paytirish\"\"\"\n",
        "        self.bosqich += 1\n",
        "\n",
        "    def get_info(self):\n",
        "        \"\"\"Talaba haqida ma'lumot\"\"\"\n",
        "        return f\"{self.ism} {self.familiya}. {self.bosqich}-bosqich talabasi \"\n",
        "\n",
        "    def get_name(self):\n",
        "        \"\"\"Talabaning ismini qaytaradi\"\"\"\n",
        "        return self.ism\n",
        "\n",
        "    def get_lastname(self):\n",
        "        \"\"\"Talabaning familiyasini qaytaradi\"\"\"\n",
        "        return self.familiya\n",
        "\n",
        "    def get_fullname(self):\n",
        "        \"\"\"Talabaning ism-familiyasini qaytaradi\"\"\"\n",
        "        return f\"{self.ism} {self.familiya}\"\n",
        "\n",
        "    def get_age(self,yil):\n",
        "        \"\"\"Talabaning yoshini qaytaradi\"\"\"\n",
        "        return yil-self.tyil"
      ]
    },
    {
      "cell_type": "markdown",
      "metadata": {
        "id": "Mqdi0j-w4iF9"
      },
      "source": [
        "Huddi shu kabi, `Fan` klassimizning yakuniy ko'rinishi quyidagicha bo'ladi:\n"
      ]
    },
    {
      "cell_type": "code",
      "execution_count": null,
      "metadata": {
        "id": "U84yhsEC4iF9"
      },
      "outputs": [],
      "source": [
        "class Fan():\n",
        "    \"\"\"Fan nomli klass\"\"\"\n",
        "    def __init__(self,nomi):\n",
        "        self.nomi = nomi\n",
        "        self.talabalar_soni = 0\n",
        "        self.talabalar = []\n",
        "\n",
        "    def add_student(self,talaba):\n",
        "        \"\"\"Fanga talabalar qo'shish\"\"\"\n",
        "        self.talabalar.append(talaba)\n",
        "        self.talabalar_soni += 1\n",
        "\n",
        "    def get_name(self):\n",
        "        \"\"\"Fan nomi\"\"\"\n",
        "        return self.nomi\n",
        "\n",
        "    def get_students(self):\n",
        "        \"\"\"Fanga yozilgan talabalar haqida ma'lumot\"\"\"\n",
        "        return [x.get_info() for x in self.talabalar]\n",
        "\n",
        "    def get_students_num(self):\n",
        "        \"\"\"Fanga yozilgan talabalar soni\"\"\"\n",
        "        return self.talabalar_soni"
      ]
    },
    {
      "cell_type": "markdown",
      "metadata": {
        "id": "h_La_vv84iF9"
      },
      "source": [
        "# OBYEKTNING XUSUSIYATLARI VA METODLARINI KO'RISH\n",
        "\n",
        "Obyektlar bilan ishlaganda, o'z-o'zidan shu obyektga tegishli xususiyatlar va metodlarni bilish talab qilinadi. Agar obyekt tegishli bo'lgan klassni o'zimiz yaratgan bo'lsak, istalgan payt klass ichini ko'rib olishimiz mumkin. Lekin boshqalar yaratgan klass haqida ma'lumot olish talab qilinsa, buning bir nechta yo'li bor.\n",
        "\n",
        "## `dir()` FUNKSIYASI\n",
        "\n",
        "`dir()` funksiyasi yordamida istalgan obyekt yoki klassning xususiyatlari va metodlarini ko'rib olishimiz mumkin:"
      ]
    },
    {
      "cell_type": "code",
      "execution_count": null,
      "metadata": {
        "id": "UqotihQr4iF9",
        "outputId": "a9f5f009-47e1-4433-ddb8-cca9e544007c"
      },
      "outputs": [
        {
          "data": {
            "text/plain": [
              "['__class__',\n",
              " '__delattr__',\n",
              " '__dict__',\n",
              " '__dir__',\n",
              " '__doc__',\n",
              " '__eq__',\n",
              " '__format__',\n",
              " '__ge__',\n",
              " '__getattribute__',\n",
              " '__gt__',\n",
              " '__hash__',\n",
              " '__init__',\n",
              " '__init_subclass__',\n",
              " '__le__',\n",
              " '__lt__',\n",
              " '__module__',\n",
              " '__ne__',\n",
              " '__new__',\n",
              " '__reduce__',\n",
              " '__reduce_ex__',\n",
              " '__repr__',\n",
              " '__setattr__',\n",
              " '__sizeof__',\n",
              " '__str__',\n",
              " '__subclasshook__',\n",
              " '__weakref__',\n",
              " 'get_age',\n",
              " 'get_fullname',\n",
              " 'get_info',\n",
              " 'get_lastname',\n",
              " 'get_name',\n",
              " 'set_bosqich',\n",
              " 'update_bosqich']"
            ]
          },
          "execution_count": 31,
          "metadata": {},
          "output_type": "execute_result"
        }
      ],
      "source": [
        "dir(Talaba)"
      ]
    },
    {
      "cell_type": "markdown",
      "metadata": {
        "id": "PEMaaEeo4iF-"
      },
      "source": [
        "Lekin bunda har bir klass bilan keluvchi maxsus **dunder metodlar** ham chiqib keldi. Dunder metodlar ikki pastki chiziq (`__`) bilan boshlanadi va maxsus holatlar uchun saqlab qo'yilgan. Biz hozircha faqat `__init__` metodi bilan tanishdik, qolganlari bilan keyingi darslarimizda yana ko'rishamiz. Dunder metodlardan keyin esa biz murojat qilishimiz mumkin bo'lgan metodlar ro'yxati kelgan.\n",
        "> **Dunder** — **d**ouble **under**score (ikki pastki chiziq) so'zlarining qisqartmasi.\n",
        "\n",
        "Keling dunder metodlarni tashlab, bizga kerak metodlarni qaytaruvchi sodda funksiya yozamiz:"
      ]
    },
    {
      "cell_type": "code",
      "execution_count": null,
      "metadata": {
        "id": "4JpaSDc74iGK",
        "outputId": "9281d4c6-76c7-4141-9f4b-d80554567942"
      },
      "outputs": [
        {
          "name": "stdout",
          "output_type": "stream",
          "text": [
            "['get_age', 'get_fullname', 'get_info', 'get_lastname', 'get_name', 'set_bosqich', 'update_bosqich']\n"
          ]
        }
      ],
      "source": [
        "def see_methods(klass):\n",
        "    return [method for method in dir(klass) if method.startswith('__') is False]\n",
        "\n",
        "print(see_methods(Talaba))"
      ]
    },
    {
      "cell_type": "markdown",
      "metadata": {
        "id": "rYfRgCzr4iGK"
      },
      "source": [
        "Agar `dir()` funksiyasiga klass emas, obyekt uzatsak metodlardan tashqari xususiyatlar ham chiqib keladi:\n"
      ]
    },
    {
      "cell_type": "code",
      "execution_count": null,
      "metadata": {
        "id": "tFhOEL224iGK",
        "outputId": "d4fcb835-8844-4de1-c61e-99bab31afbec"
      },
      "outputs": [
        {
          "name": "stdout",
          "output_type": "stream",
          "text": [
            "['bosqich', 'familiya', 'get_age', 'get_fullname', 'get_info', 'get_lastname', 'get_name', 'ism', 'set_bosqich', 'tyil', 'update_bosqich']\n"
          ]
        }
      ],
      "source": [
        "print(see_methods(talaba1))"
      ]
    },
    {
      "cell_type": "markdown",
      "metadata": {
        "id": "khLUOKVJ4iGL"
      },
      "source": [
        "# `__dict__` METODI\n",
        "\n",
        "Yuqorida zikr qilingan dunder metodlardan biri bu `__dict__` metodi bo'lib, bu metod obyketning xususiyatlarini lug'at ko'rinishida qaytaradi:"
      ]
    },
    {
      "cell_type": "code",
      "execution_count": null,
      "metadata": {
        "id": "Bfn_1f204iGL",
        "outputId": "92f6b12d-1d56-4e09-a75b-6c94ee4c9ac9"
      },
      "outputs": [
        {
          "name": "stdout",
          "output_type": "stream",
          "text": [
            "{'ism': 'Alijon', 'familiya': 'Valiyev', 'tyil': 2000, 'bosqich': 1}\n"
          ]
        }
      ],
      "source": [
        "print(talaba1.__dict__)"
      ]
    },
    {
      "cell_type": "markdown",
      "metadata": {
        "id": "IVnYw-Fn4iGL"
      },
      "source": [
        "Natijadan faqatgina kalitlarni ajratib olsak, obyektning xususiyatlari chiqadi:\n"
      ]
    },
    {
      "cell_type": "code",
      "execution_count": null,
      "metadata": {
        "id": "GaqeaiU04iGL",
        "outputId": "1d78899e-d504-4cec-9b41-be7ed2c60520"
      },
      "outputs": [
        {
          "name": "stdout",
          "output_type": "stream",
          "text": [
            "dict_keys(['ism', 'familiya', 'tyil', 'bosqich'])\n"
          ]
        }
      ],
      "source": [
        "print(talaba1.__dict__.keys())"
      ]
    },
    {
      "cell_type": "markdown",
      "metadata": {
        "id": "Ik9rsaba4iGL"
      },
      "source": [
        "# AMALIYOT\n",
        "\n",
        "- `Avto` degan yangi klass yarating. Unga avtomobillarga doir bo'lgan bir nechta xususiyatlar (model, rang, korobka, narh va hokazo) qo'shing. Ayrim xususiyatlarga standart qiymat bering (masalan, `kilometer=0`)\n",
        "- `Avto` ga oid obyektning xususiyatlarini qaytaradigan metodlar yozing\n",
        "    + `get_info()` metodi avto haqida to'liq ma'lumotni matn ko'rinishida qaytarsin\n",
        "- `Avto` ga oid obyektning xususiyatlarini yangilaydigan metodlar yozing.\n",
        "    + `update_km()` metodi son qabul qilib olib, avtomobilning yurgan kilometrajini yangilab borsin\n",
        "- Yangi, `Avtosalon` degan klass yarating va kerakli xususiyatlar bilan to'ldiring (salon nomi, manzili, sotuvdagi avtomobillar va hokazo)\n",
        "- Avtosalonga yangi avtomobillar qo'shish uchun metod yozing\n",
        "- Avtosalondagi avtomobillar haqida ma'lumot qaytaruvchi metod yozing\n",
        "- Yuqoridagi obyektlar va ularga tegishli metodlarni tekshirib ko'ring\n",
        "- `dir()` funksyasi va `__dict__` metodi yordamida o'zingiz yozgan va Pythondagi turli klass va obyektlarning xususiyatlari va metodlarini toping (`dir(str)`, `dir(int)` va hokazo)"
      ]
    }
  ],
  "metadata": {
    "language_info": {
      "codemirror_mode": {
        "name": "ipython",
        "version": 3
      },
      "file_extension": ".py",
      "mimetype": "text/x-python",
      "name": "python",
      "nbconvert_exporter": "python",
      "pygments_lexer": "ipython3",
      "version": "3.8.6"
    },
    "colab": {
      "provenance": [],
      "include_colab_link": true
    }
  },
  "nbformat": 4,
  "nbformat_minor": 0
}